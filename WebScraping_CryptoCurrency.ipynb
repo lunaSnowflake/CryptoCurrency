{
 "cells": [
  {
   "cell_type": "code",
   "execution_count": 1,
   "id": "199baea4",
   "metadata": {
    "id": "199baea4"
   },
   "outputs": [],
   "source": [
    "# Import Libraries\n",
    "import requests\n",
    "import numpy as np\n",
    "import pandas as pd\n",
    "from datetime import datetime\n",
    "from dateutil.relativedelta import relativedelta"
   ]
  },
  {
   "cell_type": "code",
   "execution_count": 2,
   "id": "99b451bf",
   "metadata": {
    "id": "99b451bf"
   },
   "outputs": [],
   "source": [
    "# The List of 20 type of cryptocurrency\n",
    "# coin_list = ['BTC', 'ETH', 'XRP', 'ADA', 'USDT', 'DOGE', 'XLM', 'DOT', 'UNI', 'LINK', 'USDC', 'BCH', 'LTC', 'GRT', 'ETC', 'FIL', 'AAVE', 'ALGO', 'EOS']\n",
    "\n",
    "coin_list = ['AAVE', 'ADA', 'BTC', 'DOGE', 'DOT', 'EOS', 'ETH', 'LINK', 'LTC', 'UNI', 'USDC', 'USDT', 'XLM', 'XRP']"
   ]
  },
  {
   "cell_type": "code",
   "execution_count": 3,
   "id": "22ac607f",
   "metadata": {
    "id": "22ac607f"
   },
   "outputs": [],
   "source": [
    "#defining the dataframe\n",
    "main_df = pd.DataFrame()"
   ]
  },
  {
   "cell_type": "code",
   "execution_count": 6,
   "id": "c83c0795",
   "metadata": {},
   "outputs": [
    {
     "data": {
      "text/plain": [
       "datetime.datetime(2023, 7, 28, 12, 0)"
      ]
     },
     "execution_count": 6,
     "metadata": {},
     "output_type": "execute_result"
    }
   ],
   "source": [
    "datetime(2023, 7, 29, 0, 0) - relativedelta(hours = 12)"
   ]
  },
  {
   "cell_type": "code",
   "execution_count": 17,
   "id": "b64d690e",
   "metadata": {
    "colab": {
     "base_uri": "https://localhost:8080/"
    },
    "id": "b64d690e",
    "outputId": "aeebc4fc-6058-4056-c550-942a5956b05a",
    "scrolled": false
   },
   "outputs": [],
   "source": [
    "for coin in ['BTC']:\n",
    "    coin_df = pd.DataFrame()\n",
    "    df = pd.DataFrame(index=[0])\n",
    "    \n",
    "    # Defining the Start Date and End Date\n",
    "    datetime_end = datetime(2023, 7, 29, 0, 0)\n",
    "    datetime_check = datetime(2023, 7, 1, 0, 0)\n",
    "    \n",
    "    while len(df) > 0:\n",
    "        if datetime_end == datetime_check:\n",
    "            break\n",
    "        \n",
    "        datetime_start = datetime_end - relativedelta(hours = 12)\n",
    "        \n",
    "        #Api for the scrapping\n",
    "        url = 'https://production.api.coindesk.com/v2/price/values/'+ \\\n",
    "                coin + \\\n",
    "                '?start_date=' + datetime_start.strftime(\"%Y-%m-%dT%H:%M\") + \\\n",
    "                '&end_date=' + datetime_end.strftime(\"%Y-%m-%dT%H:%M\") + \\\n",
    "                '&ohlc=true'\n",
    "        \n",
    "        #we are using the request to fetch the data from the api in the json format and then storing it into the dataframe.\n",
    "        temp_data = requests.get(url).json()\n",
    "        df = pd.DataFrame(temp_data['data']['entries'])\n",
    "        df.columns = ['Timestamp', 'Open', 'High', 'Low', 'Close']\n",
    "        \n",
    "        break\n",
    "        \n",
    "        # To handle the Missing Data\n",
    "        insert_ids_list = [np.nan]\n",
    "        \n",
    "        '''In numerous occasions, I observed that CoinDesk did not collect every minute of data. \n",
    "        According to observation, in a normal circumstance, the timestamp would have a discrepancy\n",
    "        value of 60000 for 1 minute. As a result, I can quickly tell that the missing period is the\n",
    "        time gap if the row difference for the timestamp is larger than 60000. To deal with it, a\n",
    "        hot-deck imputation procedure is used. To put it another way, the nearest minute data will \n",
    "        be substituted for the missing one.\n",
    "        '''\n",
    "        \n",
    "#         while len(insert_ids_list) > 0:\n",
    "#             timestamp_checking = np.array(df['Timestamp'][1:]) - np.array(df['Timestamp'][:-1])\n",
    "#             insert_ids_list = np.where(timestamp_checking != 60000)[0]\n",
    "#             if len(insert_ids_list) > 0:\n",
    "#                 print(str(len(insert_ids_list)) + ' mismatched.')\n",
    "#                 insert_ids = insert_ids_list[0]\n",
    "#                 temp_df = df.iloc[insert_ids.repeat(int(timestamp_checking[insert_ids]/60000)-1)].reset_index(drop=True)\n",
    "#                 temp_df['Timestamp'] = [temp_df['Timestamp'][0] + i*60000 for i in range(1, len(temp_df)+1)]\n",
    "# #                 df = df.loc[:insert_ids].append(temp_df).append(df.loc[insert_ids+1:]).reset_index(drop=True)\n",
    "#                 df = pd.concat(pd.concat((df.loc[:insert_ids],temp_df)), df.loc[insert_ids+1:]).reset_index(drop=True)\n",
    "#                 insert_ids_list = insert_ids_list[1:]\n",
    "                \n",
    "        \n",
    "        #adding datetime and symbol to dataframe\n",
    "        df = df.drop(['Timestamp'], axis=1)\n",
    "        df['Datetime'] = [datetime_end - relativedelta(minutes=len(df)-i) for i in range(0, len(df))]\n",
    "#         coin_df = df.append(coin_df)\n",
    "        coin_df = pd.concat((df,coin_df))\n",
    "        datetime_end = datetime_start\n",
    "        \n",
    "    coin_df['Symbol'] = coin\n",
    "#     main_df = main_df.append(coin_df)\n",
    "    main_df = pd.concat((main_df, coin_df))"
   ]
  },
  {
   "cell_type": "code",
   "execution_count": 18,
   "id": "ae0c639f",
   "metadata": {
    "colab": {
     "base_uri": "https://localhost:8080/",
     "height": 423
    },
    "id": "ae0c639f",
    "outputId": "940b7130-fe3b-4dd1-c9aa-88c0668bf63c"
   },
   "outputs": [
    {
     "data": {
      "text/html": [
       "<div>\n",
       "<style scoped>\n",
       "    .dataframe tbody tr th:only-of-type {\n",
       "        vertical-align: middle;\n",
       "    }\n",
       "\n",
       "    .dataframe tbody tr th {\n",
       "        vertical-align: top;\n",
       "    }\n",
       "\n",
       "    .dataframe thead th {\n",
       "        text-align: right;\n",
       "    }\n",
       "</style>\n",
       "<table border=\"1\" class=\"dataframe\">\n",
       "  <thead>\n",
       "    <tr style=\"text-align: right;\">\n",
       "      <th></th>\n",
       "      <th>Datetime</th>\n",
       "      <th>Symbol</th>\n",
       "      <th>Open</th>\n",
       "      <th>High</th>\n",
       "      <th>Low</th>\n",
       "      <th>Close</th>\n",
       "    </tr>\n",
       "  </thead>\n",
       "  <tbody>\n",
       "    <tr>\n",
       "      <th>0</th>\n",
       "      <td>2023-07-01 00:00:00</td>\n",
       "      <td>BTC</td>\n",
       "      <td>30474.138070</td>\n",
       "      <td>30477.817151</td>\n",
       "      <td>30473.295184</td>\n",
       "      <td>30477.817151</td>\n",
       "    </tr>\n",
       "    <tr>\n",
       "      <th>1</th>\n",
       "      <td>2023-07-01 00:01:00</td>\n",
       "      <td>BTC</td>\n",
       "      <td>30477.701288</td>\n",
       "      <td>30477.701288</td>\n",
       "      <td>30441.645957</td>\n",
       "      <td>30441.645957</td>\n",
       "    </tr>\n",
       "    <tr>\n",
       "      <th>2</th>\n",
       "      <td>2023-07-01 00:02:00</td>\n",
       "      <td>BTC</td>\n",
       "      <td>30452.196541</td>\n",
       "      <td>30475.174213</td>\n",
       "      <td>30452.178017</td>\n",
       "      <td>30466.407718</td>\n",
       "    </tr>\n",
       "    <tr>\n",
       "      <th>3</th>\n",
       "      <td>2023-07-01 00:03:00</td>\n",
       "      <td>BTC</td>\n",
       "      <td>30465.162841</td>\n",
       "      <td>30479.440929</td>\n",
       "      <td>30458.232972</td>\n",
       "      <td>30477.787368</td>\n",
       "    </tr>\n",
       "    <tr>\n",
       "      <th>4</th>\n",
       "      <td>2023-07-01 00:04:00</td>\n",
       "      <td>BTC</td>\n",
       "      <td>30478.712659</td>\n",
       "      <td>30486.953887</td>\n",
       "      <td>30472.263397</td>\n",
       "      <td>30486.943840</td>\n",
       "    </tr>\n",
       "    <tr>\n",
       "      <th>...</th>\n",
       "      <td>...</td>\n",
       "      <td>...</td>\n",
       "      <td>...</td>\n",
       "      <td>...</td>\n",
       "      <td>...</td>\n",
       "      <td>...</td>\n",
       "    </tr>\n",
       "    <tr>\n",
       "      <th>40336</th>\n",
       "      <td>2023-07-28 23:55:00</td>\n",
       "      <td>BTC</td>\n",
       "      <td>29313.037858</td>\n",
       "      <td>29313.362552</td>\n",
       "      <td>29312.688128</td>\n",
       "      <td>29313.041388</td>\n",
       "    </tr>\n",
       "    <tr>\n",
       "      <th>40337</th>\n",
       "      <td>2023-07-28 23:56:00</td>\n",
       "      <td>BTC</td>\n",
       "      <td>29313.212798</td>\n",
       "      <td>29313.212798</td>\n",
       "      <td>29311.915858</td>\n",
       "      <td>29312.368743</td>\n",
       "    </tr>\n",
       "    <tr>\n",
       "      <th>40338</th>\n",
       "      <td>2023-07-28 23:57:00</td>\n",
       "      <td>BTC</td>\n",
       "      <td>29312.427534</td>\n",
       "      <td>29313.335959</td>\n",
       "      <td>29310.851762</td>\n",
       "      <td>29312.638660</td>\n",
       "    </tr>\n",
       "    <tr>\n",
       "      <th>40339</th>\n",
       "      <td>2023-07-28 23:58:00</td>\n",
       "      <td>BTC</td>\n",
       "      <td>29312.578070</td>\n",
       "      <td>29313.386101</td>\n",
       "      <td>29311.934400</td>\n",
       "      <td>29312.016455</td>\n",
       "    </tr>\n",
       "    <tr>\n",
       "      <th>40340</th>\n",
       "      <td>2023-07-28 23:59:00</td>\n",
       "      <td>BTC</td>\n",
       "      <td>29312.015941</td>\n",
       "      <td>29314.509416</td>\n",
       "      <td>29312.015941</td>\n",
       "      <td>29314.417023</td>\n",
       "    </tr>\n",
       "  </tbody>\n",
       "</table>\n",
       "<p>40341 rows × 6 columns</p>\n",
       "</div>"
      ],
      "text/plain": [
       "                 Datetime Symbol          Open          High           Low  \\\n",
       "0     2023-07-01 00:00:00    BTC  30474.138070  30477.817151  30473.295184   \n",
       "1     2023-07-01 00:01:00    BTC  30477.701288  30477.701288  30441.645957   \n",
       "2     2023-07-01 00:02:00    BTC  30452.196541  30475.174213  30452.178017   \n",
       "3     2023-07-01 00:03:00    BTC  30465.162841  30479.440929  30458.232972   \n",
       "4     2023-07-01 00:04:00    BTC  30478.712659  30486.953887  30472.263397   \n",
       "...                   ...    ...           ...           ...           ...   \n",
       "40336 2023-07-28 23:55:00    BTC  29313.037858  29313.362552  29312.688128   \n",
       "40337 2023-07-28 23:56:00    BTC  29313.212798  29313.212798  29311.915858   \n",
       "40338 2023-07-28 23:57:00    BTC  29312.427534  29313.335959  29310.851762   \n",
       "40339 2023-07-28 23:58:00    BTC  29312.578070  29313.386101  29311.934400   \n",
       "40340 2023-07-28 23:59:00    BTC  29312.015941  29314.509416  29312.015941   \n",
       "\n",
       "              Close  \n",
       "0      30477.817151  \n",
       "1      30441.645957  \n",
       "2      30466.407718  \n",
       "3      30477.787368  \n",
       "4      30486.943840  \n",
       "...             ...  \n",
       "40336  29313.041388  \n",
       "40337  29312.368743  \n",
       "40338  29312.638660  \n",
       "40339  29312.016455  \n",
       "40340  29314.417023  \n",
       "\n",
       "[40341 rows x 6 columns]"
      ]
     },
     "execution_count": 18,
     "metadata": {},
     "output_type": "execute_result"
    }
   ],
   "source": [
    "main_df = main_df[['Datetime', 'Symbol', 'Open', 'High', 'Low', 'Close']].reset_index(drop=True)\n",
    "main_df"
   ]
  },
  {
   "cell_type": "code",
   "execution_count": null,
   "id": "0a34284c",
   "metadata": {
    "id": "0a34284c"
   },
   "outputs": [],
   "source": [
    "main_df.to_csv('main_df.csv', index=False)"
   ]
  },
  {
   "cell_type": "code",
   "execution_count": null,
   "id": "18c27630",
   "metadata": {
    "id": "18c27630"
   },
   "outputs": [],
   "source": []
  },
  {
   "cell_type": "code",
   "execution_count": null,
   "id": "7c5a4a60",
   "metadata": {},
   "outputs": [],
   "source": []
  },
  {
   "cell_type": "code",
   "execution_count": 10,
   "id": "dbcdf1e0",
   "metadata": {},
   "outputs": [
    {
     "data": {
      "text/plain": [
       "['D:\\\\Cryptocurrency Project\\\\Data\\\\coin_Aave.csv',\n",
       " 'D:\\\\Cryptocurrency Project\\\\Data\\\\coin_BinanceCoin.csv',\n",
       " 'D:\\\\Cryptocurrency Project\\\\Data\\\\coin_Bitcoin.csv',\n",
       " 'D:\\\\Cryptocurrency Project\\\\Data\\\\coin_Cardano.csv',\n",
       " 'D:\\\\Cryptocurrency Project\\\\Data\\\\coin_ChainLink.csv',\n",
       " 'D:\\\\Cryptocurrency Project\\\\Data\\\\coin_Cosmos.csv',\n",
       " 'D:\\\\Cryptocurrency Project\\\\Data\\\\coin_CryptocomCoin.csv',\n",
       " 'D:\\\\Cryptocurrency Project\\\\Data\\\\coin_Dogecoin.csv',\n",
       " 'D:\\\\Cryptocurrency Project\\\\Data\\\\coin_EOS.csv',\n",
       " 'D:\\\\Cryptocurrency Project\\\\Data\\\\coin_Ethereum.csv',\n",
       " 'D:\\\\Cryptocurrency Project\\\\Data\\\\coin_Iota.csv',\n",
       " 'D:\\\\Cryptocurrency Project\\\\Data\\\\coin_Litecoin.csv',\n",
       " 'D:\\\\Cryptocurrency Project\\\\Data\\\\coin_Monero.csv',\n",
       " 'D:\\\\Cryptocurrency Project\\\\Data\\\\coin_NEM.csv',\n",
       " 'D:\\\\Cryptocurrency Project\\\\Data\\\\coin_Polkadot.csv',\n",
       " 'D:\\\\Cryptocurrency Project\\\\Data\\\\coin_Solana.csv',\n",
       " 'D:\\\\Cryptocurrency Project\\\\Data\\\\coin_Stellar.csv',\n",
       " 'D:\\\\Cryptocurrency Project\\\\Data\\\\coin_Tether.csv',\n",
       " 'D:\\\\Cryptocurrency Project\\\\Data\\\\coin_Tron.csv',\n",
       " 'D:\\\\Cryptocurrency Project\\\\Data\\\\coin_Uniswap.csv',\n",
       " 'D:\\\\Cryptocurrency Project\\\\Data\\\\coin_USDCoin.csv',\n",
       " 'D:\\\\Cryptocurrency Project\\\\Data\\\\coin_WrappedBitcoin.csv',\n",
       " 'D:\\\\Cryptocurrency Project\\\\Data\\\\coin_XRP.csv']"
      ]
     },
     "execution_count": 10,
     "metadata": {},
     "output_type": "execute_result"
    }
   ],
   "source": [
    "import glob \n",
    "glob.glob('D:\\Cryptocurrency Project\\Data\\coin*.csv')"
   ]
  },
  {
   "cell_type": "code",
   "execution_count": 23,
   "id": "2f20ea4b",
   "metadata": {},
   "outputs": [
    {
     "name": "stdout",
     "output_type": "stream",
     "text": [
      "['AAVE', 'ADA', 'ALGO', 'BCH', 'BTC', 'DOGE', 'DOT', 'EOS', 'ETC', 'ETH', 'FIL', 'GRT', 'LINK', 'LTC', 'UNI', 'USDC', 'USDT', 'XLM', 'XRP']\n"
     ]
    }
   ],
   "source": [
    "a = ['BTC', 'ETH', 'XRP', 'ADA', 'USDT', 'DOGE', 'XLM', 'DOT', 'UNI', 'LINK', 'USDC', 'BCH', 'LTC', 'GRT', 'ETC', 'FIL', 'AAVE', 'ALGO', 'EOS']\n",
    "a.sort()\n",
    "print(a)"
   ]
  },
  {
   "cell_type": "code",
   "execution_count": null,
   "id": "186bd77f",
   "metadata": {},
   "outputs": [],
   "source": []
  },
  {
   "cell_type": "code",
   "execution_count": 16,
   "id": "1749efa0",
   "metadata": {},
   "outputs": [
    {
     "data": {
      "text/html": [
       "<div>\n",
       "<style scoped>\n",
       "    .dataframe tbody tr th:only-of-type {\n",
       "        vertical-align: middle;\n",
       "    }\n",
       "\n",
       "    .dataframe tbody tr th {\n",
       "        vertical-align: top;\n",
       "    }\n",
       "\n",
       "    .dataframe thead th {\n",
       "        text-align: right;\n",
       "    }\n",
       "</style>\n",
       "<table border=\"1\" class=\"dataframe\">\n",
       "  <thead>\n",
       "    <tr style=\"text-align: right;\">\n",
       "      <th></th>\n",
       "      <th>Sr no.</th>\n",
       "      <th>Name</th>\n",
       "      <th>Symbol</th>\n",
       "      <th>Date</th>\n",
       "      <th>High</th>\n",
       "      <th>Low</th>\n",
       "      <th>Open</th>\n",
       "      <th>Close</th>\n",
       "      <th>Volume</th>\n",
       "      <th>Marketcap</th>\n",
       "    </tr>\n",
       "  </thead>\n",
       "  <tbody>\n",
       "    <tr>\n",
       "      <th>0</th>\n",
       "      <td>0</td>\n",
       "      <td>Aave</td>\n",
       "      <td>AAVE</td>\n",
       "      <td>2020-10-05</td>\n",
       "      <td>55.112358</td>\n",
       "      <td>49.787900</td>\n",
       "      <td>52.675035</td>\n",
       "      <td>53.219243</td>\n",
       "      <td>0.000000e+00</td>\n",
       "      <td>8.912813e+07</td>\n",
       "    </tr>\n",
       "    <tr>\n",
       "      <th>1</th>\n",
       "      <td>1</td>\n",
       "      <td>Aave</td>\n",
       "      <td>AAVE</td>\n",
       "      <td>2020-10-06</td>\n",
       "      <td>53.402270</td>\n",
       "      <td>40.734578</td>\n",
       "      <td>53.291969</td>\n",
       "      <td>42.401599</td>\n",
       "      <td>5.830915e+05</td>\n",
       "      <td>7.101144e+07</td>\n",
       "    </tr>\n",
       "    <tr>\n",
       "      <th>2</th>\n",
       "      <td>2</td>\n",
       "      <td>Aave</td>\n",
       "      <td>AAVE</td>\n",
       "      <td>2020-10-07</td>\n",
       "      <td>42.408314</td>\n",
       "      <td>35.970690</td>\n",
       "      <td>42.399947</td>\n",
       "      <td>40.083976</td>\n",
       "      <td>6.828342e+05</td>\n",
       "      <td>6.713004e+07</td>\n",
       "    </tr>\n",
       "    <tr>\n",
       "      <th>3</th>\n",
       "      <td>3</td>\n",
       "      <td>Aave</td>\n",
       "      <td>AAVE</td>\n",
       "      <td>2020-10-08</td>\n",
       "      <td>44.902511</td>\n",
       "      <td>36.696057</td>\n",
       "      <td>39.885262</td>\n",
       "      <td>43.764463</td>\n",
       "      <td>1.658817e+06</td>\n",
       "      <td>2.202651e+08</td>\n",
       "    </tr>\n",
       "    <tr>\n",
       "      <th>4</th>\n",
       "      <td>4</td>\n",
       "      <td>Aave</td>\n",
       "      <td>AAVE</td>\n",
       "      <td>2020-10-09</td>\n",
       "      <td>47.569533</td>\n",
       "      <td>43.291776</td>\n",
       "      <td>43.764463</td>\n",
       "      <td>46.817744</td>\n",
       "      <td>8.155377e+05</td>\n",
       "      <td>2.356322e+08</td>\n",
       "    </tr>\n",
       "  </tbody>\n",
       "</table>\n",
       "</div>"
      ],
      "text/plain": [
       "   Sr no.  Name Symbol       Date       High        Low       Open      Close  \\\n",
       "0       0  Aave   AAVE 2020-10-05  55.112358  49.787900  52.675035  53.219243   \n",
       "1       1  Aave   AAVE 2020-10-06  53.402270  40.734578  53.291969  42.401599   \n",
       "2       2  Aave   AAVE 2020-10-07  42.408314  35.970690  42.399947  40.083976   \n",
       "3       3  Aave   AAVE 2020-10-08  44.902511  36.696057  39.885262  43.764463   \n",
       "4       4  Aave   AAVE 2020-10-09  47.569533  43.291776  43.764463  46.817744   \n",
       "\n",
       "         Volume     Marketcap  \n",
       "0  0.000000e+00  8.912813e+07  \n",
       "1  5.830915e+05  7.101144e+07  \n",
       "2  6.828342e+05  6.713004e+07  \n",
       "3  1.658817e+06  2.202651e+08  \n",
       "4  8.155377e+05  2.356322e+08  "
      ]
     },
     "execution_count": 16,
     "metadata": {},
     "output_type": "execute_result"
    }
   ],
   "source": [
    "data = pd.read_csv('D:\\\\Cryptocurrency Project\\\\Data\\\\final.csv', parse_dates=['Date'])\n",
    "data.head()"
   ]
  },
  {
   "cell_type": "code",
   "execution_count": 12,
   "id": "d44c2d4d",
   "metadata": {},
   "outputs": [
    {
     "data": {
      "text/plain": [
       "(37082, 10)"
      ]
     },
     "execution_count": 12,
     "metadata": {},
     "output_type": "execute_result"
    }
   ],
   "source": [
    "data.shape"
   ]
  },
  {
   "cell_type": "code",
   "execution_count": 26,
   "id": "6a629f0f",
   "metadata": {},
   "outputs": [
    {
     "name": "stdout",
     "output_type": "stream",
     "text": [
      "['AAVE' 'ADA' 'ATOM' 'BNB' 'BTC' 'CRO' 'DOGE' 'DOT' 'EOS' 'ETH' 'LINK'\n",
      " 'LTC' 'MIOTA' 'SOL' 'TRX' 'UNI' 'USDC' 'USDT' 'WBTC' 'XEM' 'XLM' 'XMR'\n",
      " 'XRP']\n"
     ]
    }
   ],
   "source": [
    "b = data.Symbol.unique()\n",
    "b.sort()\n",
    "print(b)"
   ]
  },
  {
   "cell_type": "code",
   "execution_count": 30,
   "id": "a8131c52",
   "metadata": {},
   "outputs": [
    {
     "name": "stdout",
     "output_type": "stream",
     "text": [
      "['AAVE', 'ADA', 'BTC', 'DOGE', 'DOT', 'EOS', 'ETH', 'LINK', 'LTC', 'UNI', 'USDC', 'USDT', 'XLM', 'XRP']\n"
     ]
    }
   ],
   "source": [
    "Coins = []\n",
    "for elem in b:\n",
    "    if elem in a:\n",
    "        Coins.append(elem)\n",
    "print(Coins)"
   ]
  },
  {
   "cell_type": "code",
   "execution_count": 43,
   "id": "73e503c8",
   "metadata": {},
   "outputs": [
    {
     "data": {
      "text/html": [
       "<div>\n",
       "<style scoped>\n",
       "    .dataframe tbody tr th:only-of-type {\n",
       "        vertical-align: middle;\n",
       "    }\n",
       "\n",
       "    .dataframe tbody tr th {\n",
       "        vertical-align: top;\n",
       "    }\n",
       "\n",
       "    .dataframe thead th {\n",
       "        text-align: right;\n",
       "    }\n",
       "</style>\n",
       "<table border=\"1\" class=\"dataframe\">\n",
       "  <thead>\n",
       "    <tr style=\"text-align: right;\">\n",
       "      <th></th>\n",
       "      <th>Sr no.</th>\n",
       "      <th>Name</th>\n",
       "      <th>Symbol</th>\n",
       "      <th>Date</th>\n",
       "      <th>High</th>\n",
       "      <th>Low</th>\n",
       "      <th>Open</th>\n",
       "      <th>Close</th>\n",
       "      <th>Volume</th>\n",
       "      <th>Marketcap</th>\n",
       "    </tr>\n",
       "  </thead>\n",
       "  <tbody>\n",
       "    <tr>\n",
       "      <th>0</th>\n",
       "      <td>0</td>\n",
       "      <td>Aave</td>\n",
       "      <td>AAVE</td>\n",
       "      <td>2020-10-05</td>\n",
       "      <td>55.112358</td>\n",
       "      <td>49.787900</td>\n",
       "      <td>52.675035</td>\n",
       "      <td>53.219243</td>\n",
       "      <td>0.000000e+00</td>\n",
       "      <td>8.912813e+07</td>\n",
       "    </tr>\n",
       "    <tr>\n",
       "      <th>1</th>\n",
       "      <td>1</td>\n",
       "      <td>Aave</td>\n",
       "      <td>AAVE</td>\n",
       "      <td>2020-10-06</td>\n",
       "      <td>53.402270</td>\n",
       "      <td>40.734578</td>\n",
       "      <td>53.291969</td>\n",
       "      <td>42.401599</td>\n",
       "      <td>5.830915e+05</td>\n",
       "      <td>7.101144e+07</td>\n",
       "    </tr>\n",
       "    <tr>\n",
       "      <th>2</th>\n",
       "      <td>2</td>\n",
       "      <td>Aave</td>\n",
       "      <td>AAVE</td>\n",
       "      <td>2020-10-07</td>\n",
       "      <td>42.408314</td>\n",
       "      <td>35.970690</td>\n",
       "      <td>42.399947</td>\n",
       "      <td>40.083976</td>\n",
       "      <td>6.828342e+05</td>\n",
       "      <td>6.713004e+07</td>\n",
       "    </tr>\n",
       "    <tr>\n",
       "      <th>3</th>\n",
       "      <td>3</td>\n",
       "      <td>Aave</td>\n",
       "      <td>AAVE</td>\n",
       "      <td>2020-10-08</td>\n",
       "      <td>44.902511</td>\n",
       "      <td>36.696057</td>\n",
       "      <td>39.885262</td>\n",
       "      <td>43.764463</td>\n",
       "      <td>1.658817e+06</td>\n",
       "      <td>2.202651e+08</td>\n",
       "    </tr>\n",
       "    <tr>\n",
       "      <th>4</th>\n",
       "      <td>4</td>\n",
       "      <td>Aave</td>\n",
       "      <td>AAVE</td>\n",
       "      <td>2020-10-09</td>\n",
       "      <td>47.569533</td>\n",
       "      <td>43.291776</td>\n",
       "      <td>43.764463</td>\n",
       "      <td>46.817744</td>\n",
       "      <td>8.155377e+05</td>\n",
       "      <td>2.356322e+08</td>\n",
       "    </tr>\n",
       "  </tbody>\n",
       "</table>\n",
       "</div>"
      ],
      "text/plain": [
       "   Sr no.  Name Symbol       Date       High        Low       Open      Close  \\\n",
       "0       0  Aave   AAVE 2020-10-05  55.112358  49.787900  52.675035  53.219243   \n",
       "1       1  Aave   AAVE 2020-10-06  53.402270  40.734578  53.291969  42.401599   \n",
       "2       2  Aave   AAVE 2020-10-07  42.408314  35.970690  42.399947  40.083976   \n",
       "3       3  Aave   AAVE 2020-10-08  44.902511  36.696057  39.885262  43.764463   \n",
       "4       4  Aave   AAVE 2020-10-09  47.569533  43.291776  43.764463  46.817744   \n",
       "\n",
       "         Volume     Marketcap  \n",
       "0  0.000000e+00  8.912813e+07  \n",
       "1  5.830915e+05  7.101144e+07  \n",
       "2  6.828342e+05  6.713004e+07  \n",
       "3  1.658817e+06  2.202651e+08  \n",
       "4  8.155377e+05  2.356322e+08  "
      ]
     },
     "execution_count": 43,
     "metadata": {},
     "output_type": "execute_result"
    }
   ],
   "source": [
    "new_data = data[data['Symbol'].isin(Coins)]\n",
    "new_data.head()"
   ]
  },
  {
   "cell_type": "code",
   "execution_count": 44,
   "id": "aed7b44b",
   "metadata": {},
   "outputs": [
    {
     "data": {
      "text/plain": [
       "(24754, 10)"
      ]
     },
     "execution_count": 44,
     "metadata": {},
     "output_type": "execute_result"
    }
   ],
   "source": [
    "new_data.shape"
   ]
  },
  {
   "cell_type": "code",
   "execution_count": 46,
   "id": "4de6cef7",
   "metadata": {},
   "outputs": [],
   "source": [
    "new_data.to_csv('D:\\\\Cryptocurrency Project\\\\Data\\\\final_new.csv', index=False)"
   ]
  },
  {
   "cell_type": "code",
   "execution_count": null,
   "id": "e00f8034",
   "metadata": {},
   "outputs": [],
   "source": []
  },
  {
   "cell_type": "code",
   "execution_count": null,
   "id": "ae9cc878",
   "metadata": {},
   "outputs": [],
   "source": []
  },
  {
   "cell_type": "code",
   "execution_count": null,
   "id": "971db492",
   "metadata": {},
   "outputs": [],
   "source": [
    "import pandas as pd\n",
    "import talib\n",
    "\n",
    "# Load your data into a pandas DataFrame\n",
    "data = pd.read_csv('your_data.csv')\n",
    "\n",
    "# Calculate moving averages\n",
    "data['MA10'] = talib.SMA(data['Close'], timeperiod=10)\n",
    "data['MA50'] = talib.SMA(data['Close'], timeperiod=50)\n",
    "\n",
    "# Calculate Relative Strength Index (RSI)\n",
    "data['RSI'] = talib.RSI(data['Close'], timeperiod=14)\n",
    "\n",
    "# Calculate Bollinger Bands\n",
    "data['upper_band'], data['middle_band'], data['lower_band'] = talib.BBANDS(data['Close'], timeperiod=20)\n",
    "\n",
    "# Calculate Moving Average Convergence Divergence (MACD)\n",
    "macd, signal, _ = talib.MACD(data['Close'], fastperiod=12, slowperiod=26, signalperiod=9)\n",
    "data['MACD'] = macd\n",
    "data['MACD_Signal'] = signal\n",
    "\n",
    "# Calculate Average True Range (ATR)\n",
    "data['ATR'] = talib.ATR(data['High'], data['Low'], data['Close'], timeperiod=14)\n",
    "\n",
    "# Calculate On-Balance Volume (OBV)\n",
    "data['OBV'] = talib.OBV(data['Close'], data['Volume'])\n",
    "\n",
    "# You can continue calculating other indicators based on your analysis requirements\n",
    "\n",
    "# Save the updated DataFrame with calculated indicators\n",
    "data.to_csv('data_with_indicators.csv', index=False)\n"
   ]
  },
  {
   "cell_type": "code",
   "execution_count": null,
   "id": "e1df67ca",
   "metadata": {},
   "outputs": [],
   "source": []
  },
  {
   "cell_type": "code",
   "execution_count": null,
   "id": "cd80bf9b",
   "metadata": {
    "id": "cd80bf9b"
   },
   "outputs": [],
   "source": []
  }
 ],
 "metadata": {
  "colab": {
   "collapsed_sections": [],
   "name": "WebScraping - CryptoCurrency.ipynb",
   "provenance": []
  },
  "kernelspec": {
   "display_name": "Python 3 (ipykernel)",
   "language": "python",
   "name": "python3"
  },
  "language_info": {
   "codemirror_mode": {
    "name": "ipython",
    "version": 3
   },
   "file_extension": ".py",
   "mimetype": "text/x-python",
   "name": "python",
   "nbconvert_exporter": "python",
   "pygments_lexer": "ipython3",
   "version": "3.9.13"
  }
 },
 "nbformat": 4,
 "nbformat_minor": 5
}
